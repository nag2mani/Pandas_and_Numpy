{
 "cells": [
  {
   "cell_type": "code",
   "execution_count": 25,
   "metadata": {},
   "outputs": [],
   "source": [
    "import pandas as pd"
   ]
  },
  {
   "cell_type": "markdown",
   "metadata": {},
   "source": [
    "Series"
   ]
  },
  {
   "cell_type": "code",
   "execution_count": 26,
   "metadata": {},
   "outputs": [],
   "source": [
    "x=[1, 2, 3, -4, 5, 62, 7, 118, 9]\n",
    "dic = {'name': ['python', 'c++'], 'rank':[1,2], 'user':[212,232]}\n",
    "var = pd.Series(x)\n",
    "var1 = pd.Series(x, dtype='float', name='first')\n",
    "var2 = pd.Series(dic)\n",
    "var3 = pd.Series(12, index=[1,2,3,4])"
   ]
  },
  {
   "cell_type": "markdown",
   "metadata": {},
   "source": [
    "DataFrame"
   ]
  },
  {
   "cell_type": "code",
   "execution_count": 27,
   "metadata": {},
   "outputs": [],
   "source": [
    "x=[1, 2, 3, -4, 5, 62, 7, 118, 9]\n",
    "var1 = pd.DataFrame(x)\n",
    "var2 = pd.DataFrame(dic) #no. of data should be equal\n",
    "var3 = pd.DataFrame(dic, columns=['user', 'rank', 'l'], index=['a', 'k'])\n",
    "\n",
    "#Using two series as a value and two keys we can make data frames.\n",
    "d = {'a': pd.Series([1,2,3,4,5]), 'b': pd.Series([9,8,7,6,5])}\n",
    "v = pd.DataFrame(d)"
   ]
  },
  {
   "cell_type": "code",
   "execution_count": null,
   "metadata": {},
   "outputs": [],
   "source": []
  },
  {
   "cell_type": "markdown",
   "metadata": {},
   "source": [
    "Csv file reading and conversion"
   ]
  },
  {
   "cell_type": "code",
   "execution_count": 28,
   "metadata": {},
   "outputs": [],
   "source": [
    "# Convertting dictonary or data to csv file.\n",
    "data = {'name': ['python', 'c++'], 'rank':[1,2], 'user':[212,232]}\n",
    "d = pd.DataFrame(data)\n",
    "\n",
    "#whatever extension you write it make.\n",
    "d.to_csv('first2.csv', index=False, header=['a', 'b', 'c'])\n",
    "\n",
    "# #You can't write index like this.\n",
    "# d.to_csv('first1.csv', index=['f', 'g', 'j'], header=['a', 'b', 'c'])"
   ]
  },
  {
   "cell_type": "code",
   "execution_count": 29,
   "metadata": {},
   "outputs": [],
   "source": [
    "#reading csv file:\n",
    "data = pd.read_csv('people.csv')\n",
    "# data = pd.read_csv('people.csv', nrows=3, usecols=[0, 4], skiprows=[0], index_col=\"Name\", header=2, col = [\"col1\", \"col2\"])\n",
    "# data = pd.read_csv('people.csv', header=None, dtype={\"Graduation\": \"float\"}, names = [\"col1\", \"col2\", \"col3\", \"col4\", \"col5\", \"col6\"])\n",
    "# print(type(data))"
   ]
  },
  {
   "cell_type": "code",
   "execution_count": 31,
   "metadata": {},
   "outputs": [],
   "source": [
    "df = pd.read_csv(\"titanic.csv\")\n",
    "# df.loc[0]\n",
    "# df.reset_index(inplace=True, drop=True)\n",
    "# lst = [1 for x in range(891)]\n",
    "# df.index=lst\n",
    "# x=df[df[\"Survived\"]==0]\n",
    "# len(x)\n",
    "# # for multiple condition use &\n",
    "# df[\"Pclass\"].value_counts()\n",
    "# df[[\"Survived\", \"Sex\"]].value_counts()"
   ]
  },
  {
   "cell_type": "code",
   "execution_count": 69,
   "metadata": {},
   "outputs": [
    {
     "data": {
      "text/plain": [
       "Index(['PassengerId', 'Survived', 'Pclass', 'Name', 'Sex', 'Age', 'SibSp',\n",
       "       'Parch', 'Ticket', 'Fare', 'Cabin', 'Embarked'],\n",
       "      dtype='object')"
      ]
     },
     "execution_count": 69,
     "metadata": {},
     "output_type": "execute_result"
    }
   ],
   "source": [
    "df.columns\n",
    "# print(type(df.columns))\n",
    "# len(df)\n",
    "# df[\"Sex\"].value_counts()\n",
    "\n"
   ]
  }
 ],
 "metadata": {
  "kernelspec": {
   "display_name": "Python 3",
   "language": "python",
   "name": "python3"
  },
  "language_info": {
   "codemirror_mode": {
    "name": "ipython",
    "version": 3
   },
   "file_extension": ".py",
   "mimetype": "text/x-python",
   "name": "python",
   "nbconvert_exporter": "python",
   "pygments_lexer": "ipython3",
   "version": "3.12.0"
  }
 },
 "nbformat": 4,
 "nbformat_minor": 2
}
